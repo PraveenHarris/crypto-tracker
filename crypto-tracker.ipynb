{
 "cells": [
  {
   "cell_type": "markdown",
   "metadata": {},
   "source": [
    "# Crypto-Tracker\n",
    "\n",
    " We will attempt to collect data of cryptocurrencies and monitor their growth. This will be accomplished by making API calls to https://min-api.cryptocompare.com. We will be tracking the growth of Bitcoin, Ethereum, Ethereum Classic, Ripple, Litecoin, Dash, NEO, EOS and Lisk. The methods are created such that everytime the notebook runs, a date validation technique is used to verify that we do not write the same values to disk (one write per day).   "
   ]
  },
  {
   "cell_type": "code",
   "execution_count": 21,
   "metadata": {
    "collapsed": true
   },
   "outputs": [],
   "source": [
    "# import dependancies\n",
    "import requests     # making calls to the api\n",
    "import datetime     # date stamp for csv file"
   ]
  },
  {
   "cell_type": "code",
   "execution_count": 22,
   "metadata": {
    "collapsed": true
   },
   "outputs": [],
   "source": [
    "# declare global variables\n",
    "currencies = []\n",
    "json_response = ''"
   ]
  },
  {
   "cell_type": "code",
   "execution_count": 23,
   "metadata": {
    "collapsed": false
   },
   "outputs": [],
   "source": [
    "def complete_api_calls():\n",
    "    ''' \n",
    "    We will be conducting calls for Bitcoin, Ethereum, Ripple, Litecoin, Dash, \n",
    "    Ethereum Classic, NEO, EOS and Lisk\n",
    "    '''\n",
    "    global currencies\n",
    "    currencies = [['Bitcoin', 'BTC'], ['Ethereum', 'ETH'], ['RIPPLE', 'XRP'], \n",
    "                  ['Litecoin', 'LTC'], ['Dash', 'DASH'], ['Ethereum Classic', 'ETC'], \n",
    "                  ['NEO', 'NEO'], ['EOS', 'EOS'], ['Lisk', 'LSK']]\n",
    "\n",
    "    symbols_for_api_call = ''\n",
    "    for currency in currencies:\n",
    "        symbols_for_api_call += currency[1] + ','\n",
    "    symbols_for_api_call = symbols_for_api_call[0:len(symbols_for_api_call)-1] # last comma\n",
    "    \n",
    "    # prepare url before making api call\n",
    "    url = 'https://min-api.cryptocompare.com/data/pricemulti?fsyms='+symbols_for_api_call\n",
    "    url += '&tsyms=CAD,USD,BTC,USD'\n",
    "    response = requests.get(url)\n",
    "    \n",
    "    if response.status_code == 200:     # everthing went okay\n",
    "        global json_response\n",
    "        json_response = response.json()      # decode to JSON form\n",
    "        print(json_response)\n"
   ]
  },
  {
   "cell_type": "code",
   "execution_count": 24,
   "metadata": {
    "collapsed": false
   },
   "outputs": [],
   "source": [
    "def create_csv_of_collected_data():\n",
    "    '''\n",
    "    Make additional api calls for last close and write all values to file\n",
    "    '''\n",
    "    now = datetime.datetime.now()\n",
    "    date = str(now.day) + '-' + str(now.month) + '-' + str(now.year) + \", \"\n",
    "    timestamp = int(now.timestamp())\n",
    "    timestamp -= 86400   # minus one day\n",
    "    \n",
    "    f = open('tracker.csv', 'a')\n",
    "    for currency in currencies:\n",
    "        name = currency[0] + ', '\n",
    "        symbol = currency[1] + ', '\n",
    "        cad_price = str(json_response[currency[1]]['CAD'])\n",
    "        usd_price = str(json_response[currency[1]]['USD']) + ', '\n",
    "        btc_price = str(json_response[currency[1]]['BTC']) + ', '\n",
    "        delta_dollars = 0\n",
    "        delta_percentage = 0\n",
    "        \n",
    "        previous_close_url = 'https://min-api.cryptocompare.com/data/pricehistorical?fsym='\n",
    "        previous_close_url += currency[1] + '&tsyms=CAD&ts=' + str(timestamp)\n",
    "        previous_close_response = requests.get(previous_close_url)\n",
    "        if previous_close_response.status_code == 200:\n",
    "            previous_close_json = previous_close_response.json()\n",
    "            prev_close = previous_close_json[currency[1]]['CAD']\n",
    "            delta_dollars = float(cad_price) - float(prev_close)\n",
    "            delta_percentage = float(cad_price) / float(prev_close) - 1\n",
    "        \n",
    "        line = date+name+symbol+cad_price+', '+usd_price+btc_price\n",
    "        line += '{:.3f}, {:.5f}%'.format(delta_dollars, delta_percentage)\n",
    "        print(line)\n",
    "        \n",
    "        for letter in line:\n",
    "            f.write(letter)\n",
    "        f.write('\\n')\n",
    "        \n",
    "    f.close()\n"
   ]
  },
  {
   "cell_type": "code",
   "execution_count": 25,
   "metadata": {
    "collapsed": false
   },
   "outputs": [
    {
     "name": "stdout",
     "output_type": "stream",
     "text": [
      "{'BTC': {'CAD': 19548.84, 'USD': 16190.68, 'BTC': 1}, 'ETH': {'CAD': 558.31, 'USD': 453.13, 'BTC': 0.02781}, 'XRP': {'CAD': 0.2948, 'USD': 0.2351, 'BTC': 1.474e-05}, 'LTC': {'CAD': 151, 'USD': 126.6, 'BTC': 0.007639}, 'DASH': {'CAD': 876.55, 'USD': 701.72, 'BTC': 0.04388}, 'ETC': {'CAD': 33.84, 'USD': 27.1, 'BTC': 0.001687}, 'NEO': {'CAD': 44.14, 'USD': 35.02, 'BTC': 0.002184}, 'EOS': {'CAD': 5.27, 'USD': 4.2, 'BTC': 0.0002633}, 'LSK': {'CAD': 9.6, 'USD': 8.21, 'BTC': 0.000491}}\n",
      "8-12-2017, Bitcoin, BTC, 19548.84, 16190.68, 1, 361.640, 0.01885%\n",
      "8-12-2017, Ethereum, ETH, 558.31, 453.13, 0.02781, 0.770, 0.00138%\n",
      "8-12-2017, RIPPLE, XRP, 0.2948, 0.2351, 1.474e-05, 0.002, 0.00546%\n",
      "8-12-2017, Litecoin, LTC, 151, 126.6, 0.007639, 0.000, 0.00000%\n",
      "8-12-2017, Dash, DASH, 876.55, 701.72, 0.04388, -48.970, -0.05291%\n",
      "8-12-2017, Ethereum Classic, ETC, 33.84, 27.1, 0.001687, 0.830, 0.02514%\n",
      "8-12-2017, NEO, NEO, 44.14, 35.02, 0.002184, -0.750, -0.01671%\n",
      "8-12-2017, EOS, EOS, 5.27, 4.2, 0.0002633, 0.120, 0.02330%\n",
      "8-12-2017, Lisk, LSK, 9.6, 8.21, 0.000491, -0.710, -0.06887%\n"
     ]
    }
   ],
   "source": [
    "def main():\n",
    "    with open('tracker.csv', 'r') as f:\n",
    "        lines = f.read().splitlines()\n",
    "        last_line = lines[-1]\n",
    "        split = last_line.split(',')\n",
    "        last_date = split[0]\n",
    "        now = datetime.datetime.now()\n",
    "        current_date = str(now.day) + '-' + str(now.month) + '-' + str(now.year)\n",
    "        \n",
    "        if last_date != current_date:\n",
    "            complete_api_calls()\n",
    "            create_csv_of_collected_data()\n",
    "            \n",
    "            \n",
    "if __name__ == '__main__':\n",
    "    main()    "
   ]
  },
  {
   "cell_type": "code",
   "execution_count": null,
   "metadata": {
    "collapsed": true
   },
   "outputs": [],
   "source": []
  }
 ],
 "metadata": {
  "kernelspec": {
   "display_name": "Python 3",
   "language": "python",
   "name": "python3"
  },
  "language_info": {
   "codemirror_mode": {
    "name": "ipython",
    "version": 3
   },
   "file_extension": ".py",
   "mimetype": "text/x-python",
   "name": "python",
   "nbconvert_exporter": "python",
   "pygments_lexer": "ipython3",
   "version": "3.6.0"
  }
 },
 "nbformat": 4,
 "nbformat_minor": 0
}
